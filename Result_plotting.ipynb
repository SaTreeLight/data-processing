{
 "cells": [
  {
   "cell_type": "code",
   "execution_count": null,
   "metadata": {
    "cell_id": "00b649aa-88cb-467d-8b5d-9f4aa0d5b40a",
    "deepnote_cell_height": 98.953125,
    "deepnote_cell_type": "code",
    "deepnote_to_be_reexecuted": false,
    "execution_millis": 0,
    "execution_start": 1650444875749,
    "source_hash": "31b865a6",
    "tags": []
   },
   "outputs": [],
   "source": [
    "import plotly.graph_objects as go\n",
    "import pandas as pd"
   ]
  },
  {
   "cell_type": "code",
   "execution_count": null,
   "metadata": {
    "cell_id": "00001-7e503bcd-fcd3-4351-8824-00c67b235cf4",
    "deepnote_cell_height": 98.953125,
    "deepnote_cell_type": "code",
    "deepnote_to_be_reexecuted": false,
    "execution_millis": 0,
    "execution_start": 1650444875750,
    "source_hash": "48064d07",
    "tags": []
   },
   "outputs": [],
   "source": [
    "# Load results\n",
    "df = pd.read_csv('Result.csv')"
   ]
  },
  {
   "cell_type": "code",
   "execution_count": null,
   "metadata": {
    "cell_id": "00002-ebb36c9a-9dfd-4b38-ba98-e116887b5942",
    "deepnote_cell_height": 656.953125,
    "deepnote_cell_type": "code",
    "deepnote_to_be_reexecuted": false,
    "execution_millis": 1,
    "execution_start": 1650444875793,
    "source_hash": "5b262205",
    "tags": []
   },
   "outputs": [],
   "source": [
    "def veg_happiness(df, mode='markers'):\n",
    "    layout = dict(\n",
    "        plot_bgcolor=\"white\",\n",
    "        margin=dict(t=40, l=20, r=20, b=20),\n",
    "        title=dict(text=\"Happiness\", x=0.5),\n",
    "        yaxis=dict(\n",
    "            title=\"Happiness score\",\n",
    "            linecolor=\"#d9d9d9\",\n",
    "            showgrid=False,\n",
    "            mirror=True,\n",
    "        ),\n",
    "        xaxis=dict(\n",
    "            title=\"Vegetation coverage [%]\",\n",
    "            linecolor=\"#d9d9d9\",\n",
    "            showgrid=False,\n",
    "            mirror=True,\n",
    "        ),\n",
    "    )\n",
    "\n",
    "    data = go.Scatter(\n",
    "        y=df[\"Total Score\"],\n",
    "        x=df[\"Vegetation Fraction\"] * 100,\n",
    "        text=df[\"City\"],\n",
    "        textposition=\"top right\",\n",
    "        textfont=dict(color=\"#E58606\"),\n",
    "        mode=mode,\n",
    "        marker=dict(color=\"#5D69B1\", size=8),\n",
    "        name=\"citations\",\n",
    "    )\n",
    "\n",
    "    fig = go.Figure(data=data, layout=layout)\n",
    "    return fig\n"
   ]
  },
  {
   "cell_type": "code",
   "execution_count": null,
   "metadata": {
    "cell_id": "00003-c7231869-00be-4dcc-b095-89a36eff82ec",
    "deepnote_cell_height": 623.921875,
    "deepnote_cell_type": "code",
    "deepnote_output_heights": [
     526.984375
    ],
    "deepnote_to_be_reexecuted": false,
    "execution_millis": 301,
    "execution_start": 1650444875794,
    "source_hash": "ef620b64",
    "tags": []
   },
   "outputs": [],
   "source": [
    "veg_happiness(df)"
   ]
  },
  {
   "cell_type": "code",
   "execution_count": null,
   "metadata": {
    "cell_id": "00004-4b5f971f-5426-4819-87db-fc6435e33292",
    "deepnote_cell_height": 674.953125,
    "deepnote_cell_type": "code",
    "deepnote_to_be_reexecuted": false,
    "execution_millis": 1,
    "execution_start": 1650444876063,
    "source_hash": "33bcd23e",
    "tags": []
   },
   "outputs": [],
   "source": [
    "def veg_emophys(df, mode='markers'):\n",
    "    layout = dict(\n",
    "        plot_bgcolor=\"white\",\n",
    "        margin=dict(t=40, l=20, r=20, b=20),\n",
    "        title=dict(text=\"Emotional and physical well-being\", x=0.5),\n",
    "        yaxis=dict(\n",
    "            title=\"Emotional and physical well-being rank [lower is better]\",\n",
    "            linecolor=\"#d9d9d9\",\n",
    "            showgrid=False,\n",
    "            mirror=True,\n",
    "        ),\n",
    "        xaxis=dict(\n",
    "            title=\"Vegetation coverage [%]\",\n",
    "            linecolor=\"#d9d9d9\",\n",
    "            showgrid=False,\n",
    "            mirror=True,\n",
    "        ),\n",
    "    )\n",
    "\n",
    "    data = go.Scatter(\n",
    "        x=df[\"Vegetation Fraction\"]*100,\n",
    "        y=df[\"Emotional and Physical Well-Being Rank\"],\n",
    "        text=df[\"City\"],\n",
    "        textposition=\"top right\",\n",
    "        textfont=dict(color=\"#E58606\"),\n",
    "        mode=mode,\n",
    "        marker=dict(color=\"#5D69B1\", size=8),\n",
    "        name=\"citations\",\n",
    "    )\n",
    "\n",
    "    fig = go.Figure(data=data, layout=layout)\n",
    "\n",
    "    fig.show()\n"
   ]
  },
  {
   "cell_type": "code",
   "execution_count": null,
   "metadata": {
    "cell_id": "00005-641b23f0-4c2b-4658-877e-8a0387f09235",
    "deepnote_cell_height": 623.921875,
    "deepnote_cell_type": "code",
    "deepnote_output_heights": [
     526.984375
    ],
    "deepnote_to_be_reexecuted": false,
    "execution_millis": 31,
    "execution_start": 1650444876065,
    "source_hash": "4597e93e",
    "tags": []
   },
   "outputs": [],
   "source": [
    "veg_emophys(df)"
   ]
  },
  {
   "cell_type": "code",
   "execution_count": null,
   "metadata": {
    "cell_id": "00006-c0b631b2-9d3f-4e32-a14f-3ac77e928686",
    "deepnote_cell_height": 674.953125,
    "deepnote_cell_type": "code",
    "deepnote_to_be_reexecuted": false,
    "execution_millis": 18,
    "execution_start": 1650444876073,
    "source_hash": "9646d0a6",
    "tags": []
   },
   "outputs": [],
   "source": [
    "def veg_income_emp(df, mode='markers'):\n",
    "    layout = dict(\n",
    "        plot_bgcolor=\"white\",\n",
    "        margin=dict(t=40, l=20, r=20, b=20),\n",
    "        title=dict(text=\"Income and employment\", x=0.5),\n",
    "        yaxis=dict(\n",
    "            title=\"Income and employment rank [lower is better]\",\n",
    "            linecolor=\"#d9d9d9\",\n",
    "            showgrid=False,\n",
    "            mirror=True,\n",
    "        ),\n",
    "        xaxis=dict(\n",
    "            title=\"Vegetation coverage [%]\",\n",
    "            linecolor=\"#d9d9d9\",\n",
    "            showgrid=False,\n",
    "            mirror=True,\n",
    "        ),\n",
    "    )\n",
    "\n",
    "    data = go.Scatter(\n",
    "        y=df[\"Income and Employment Rank\"],\n",
    "        x=df[\"Vegetation Fraction\"]*100,\n",
    "        text=df[\"City\"],\n",
    "        textposition=\"top right\",\n",
    "        textfont=dict(color=\"#E58606\"),\n",
    "        mode=mode,\n",
    "        marker=dict(color=\"#5D69B1\", size=8),\n",
    "        name=\"citations\",\n",
    "    )\n",
    "\n",
    "    fig = go.Figure(data=data, layout=layout)\n",
    "\n",
    "    fig.show()\n"
   ]
  },
  {
   "cell_type": "code",
   "execution_count": null,
   "metadata": {
    "cell_id": "00007-19d41d10-e13b-412f-9368-032186159a59",
    "deepnote_cell_height": 623.921875,
    "deepnote_cell_type": "code",
    "deepnote_output_heights": [
     526.984375
    ],
    "deepnote_to_be_reexecuted": false,
    "execution_millis": 10,
    "execution_start": 1650444876098,
    "source_hash": "d02bbb2e",
    "tags": []
   },
   "outputs": [],
   "source": [
    "veg_income_emp(df)"
   ]
  },
  {
   "cell_type": "code",
   "execution_count": null,
   "metadata": {
    "cell_id": "00008-31d09427-918d-4689-b54f-4180bcd0e5d4",
    "deepnote_cell_height": 674.953125,
    "deepnote_cell_type": "code",
    "deepnote_to_be_reexecuted": false,
    "execution_millis": 3,
    "execution_start": 1650444876114,
    "source_hash": "734d64cc",
    "tags": []
   },
   "outputs": [],
   "source": [
    "def veg_community_env(df, mode='markers'):\n",
    "    layout = dict(\n",
    "        plot_bgcolor=\"white\",\n",
    "        margin=dict(t=40, l=20, r=20, b=20),\n",
    "        title=dict(text=\"Community and environment\", x=0.5),\n",
    "        yaxis=dict(\n",
    "            title=\"Community and environment rank [lower is better]\",\n",
    "            linecolor=\"#d9d9d9\",\n",
    "            showgrid=False,\n",
    "            mirror=True,\n",
    "        ),\n",
    "        xaxis=dict(\n",
    "            title=\"Vegetation coverage [%]\",\n",
    "            linecolor=\"#d9d9d9\",\n",
    "            showgrid=False,\n",
    "            mirror=True,\n",
    "        ),\n",
    "    )\n",
    "\n",
    "    data = go.Scatter(\n",
    "        y=df[\"Community and Environment Rank\"],\n",
    "        x=df[\"Vegetation Fraction\"]*100,\n",
    "        text=df[\"City\"],\n",
    "        textposition=\"top right\",\n",
    "        textfont=dict(color=\"#E58606\"),\n",
    "        mode=mode,\n",
    "        marker=dict(color=\"#5D69B1\", size=8),\n",
    "        name=\"citations\",\n",
    "    )\n",
    "\n",
    "    fig = go.Figure(data=data, layout=layout)\n",
    "\n",
    "    fig.show()\n"
   ]
  },
  {
   "cell_type": "code",
   "execution_count": null,
   "metadata": {
    "cell_id": "00009-bac05f94-7900-4c13-8db7-107a997e3a72",
    "deepnote_cell_height": 623.921875,
    "deepnote_cell_type": "code",
    "deepnote_output_heights": [
     526.984375
    ],
    "deepnote_to_be_reexecuted": false,
    "execution_millis": 29,
    "execution_start": 1650444876134,
    "source_hash": "604b4a9",
    "tags": []
   },
   "outputs": [],
   "source": [
    "veg_community_env(df)"
   ]
  },
  {
   "cell_type": "code",
   "execution_count": null,
   "metadata": {
    "cell_id": "00010-8b78439b-8d69-4837-9241-597357ae964b",
    "deepnote_cell_height": 134.953125,
    "deepnote_cell_type": "code",
    "deepnote_table_loading": false,
    "deepnote_table_state": {
     "filters": [],
     "pageIndex": 0,
     "pageSize": 10,
     "sortBy": []
    },
    "deepnote_to_be_reexecuted": false,
    "execution_millis": 4,
    "execution_start": 1650444876312,
    "source_hash": "d53c7134",
    "tags": []
   },
   "outputs": [],
   "source": [
    "states = {}\n",
    "for city in df.City:\n",
    "    state = city.split(', ')[-1]\n",
    "    states[state] = df[df.City.str.contains(', '+state)]"
   ]
  },
  {
   "cell_type": "code",
   "execution_count": null,
   "metadata": {
    "cell_id": "00011-76bacbb9-8244-4a69-815b-90e6757ab45f",
    "deepnote_cell_height": 1829.859375,
    "deepnote_cell_type": "code",
    "deepnote_output_heights": [
     526.984375,
     526.984375,
     526.984375
    ],
    "deepnote_to_be_reexecuted": false,
    "execution_millis": 22,
    "execution_start": 1650444876343,
    "owner_user_id": "b1fc138b-e9b1-4765-aed3-4877e4360e65",
    "source_hash": "a786da58",
    "tags": []
   },
   "outputs": [],
   "source": [
    "    state = 'FL'\n",
    "data = states[state]\n",
    "veg_happiness(data, mode='markers+text')\n",
    "veg_emophys(data, mode='markers+text')\n",
    "veg_income_emp(data, mode='markers+text')\n",
    "veg_community_env(data, mode='markers+text')"
   ]
  }
 ],
 "metadata": {
  "deepnote": {
   "is_reactive": false
  },
  "deepnote_execution_queue": [],
  "deepnote_notebook_id": "cea7dbd5-49e1-48d0-9a17-38c0cd9095d0",
  "language_info": {
   "name": "python"
  },
  "orig_nbformat": 2
 },
 "nbformat": 4,
 "nbformat_minor": 2
}
